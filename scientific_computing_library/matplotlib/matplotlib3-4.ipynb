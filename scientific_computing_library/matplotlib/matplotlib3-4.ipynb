{
 "cells": [
  {
   "cell_type": "markdown",
   "metadata": {},
   "source": [
    "# 3 Artist 模块\n",
    "\n",
    "Matplotlib应用接口包含三层：FigureCanvas、Renderer和Artist。其中FigureCanvas是绘制图形时的作用区域；Renderer知道怎么在FigureCanvas上画图；Artist知道怎么使用render在画布谁给你绘制图形。FigureCanvas和render负责处理底层工具包交换信息的细节。Artist模块在更高的层次上绘制图形，如文本、线条等。一般用户95%的时间都在使用Artist模块上进行工作。\n",
    "\n",
    "## 3.1 Artist 模块概述\n",
    "\n",
    "1. 基本Artist\n",
    "  在画布上绘制的标准元素对象，如Line2D、Rectangle、Text、AxesImage等。\n",
    "2. 容器Artist\n",
    "  是用来存放上面元素的，如 Axes、Axies、Figure等。\n",
    "在使用subplot()函数添加子图的时候，会自动创建一个Figure实体。\n",
    "\n",
    "绘图步骤：\n",
    "  - 使用figure()床架一个Figure实体\n",
    "  - 使用这个实体创建一个或者对个Axes或者Subplot实体。\n",
    "  - 使用Axes实体的方法来创建基本的图形元素"
   ]
  },
  {
   "cell_type": "code",
   "execution_count": 3,
   "metadata": {},
   "outputs": [],
   "source": [
    "import matplotlib.pyplot as plt\n",
    "import numpy as np"
   ]
  },
  {
   "cell_type": "code",
   "execution_count": 2,
   "metadata": {},
   "outputs": [
    {
     "data": {
      "image/png": "[encoded data removed]",
      "text/plain": [
       "<Figure size 432x288 with 1 Axes>"
      ]
     },
     "metadata": {
      "needs_background": "light"
     },
     "output_type": "display_data"
    }
   ],
   "source": [
    "fig = plt.figure()\n",
    "ax = fig.add_subplot(2, 1, 1)  #2行 1列 第一张子图"
   ]
  },
  {
   "cell_type": "markdown",
   "metadata": {},
   "source": [
    "Axes是Matplotlib应用层最重要的对象，大多数时间多会用到它。Axes有很多函数（如plot()、text()、his()、imshow()等）来创建一些基本的图形元素（Line2D、Rectangle、Text）。大家比较熟悉的subplot()函数其实就是Axes的一个特例，它用于创建一个规则的Subplot实体。如果想创建一个任意位置的Axes，则可以使用add_axes()函数，并传递一个表示图形相对位置的列表作为参数。"
   ]
  },
  {
   "cell_type": "code",
   "execution_count": 21,
   "metadata": {},
   "outputs": [
    {
     "data": {
      "image/png": "[encoded data removed]",
      "text/plain": [
       "<Figure size 432x288 with 1 Axes>"
      ]
     },
     "metadata": {
      "needs_background": "light"
     },
     "output_type": "display_data"
    }
   ],
   "source": [
    "fig2 = plt.figure()\n",
    "ax2 = fig2.add_axes([0.15, 0.1, 0.7, 0.3]"
   ]
  },
  {
   "cell_type": "markdown",
   "metadata": {},
   "source": [
    "ax是fig.add_subplot()函数创建的一个Axes实体。在使用ax.plot()函数的时候会创建一个Line2D实体，并把它放到Axes.lines列表中。"
   ]
  },
  {
   "cell_type": "code",
   "execution_count": 27,
   "metadata": {},
   "outputs": [],
   "source": [
    "t = np.arange(0.0, 1.0, 0.01)\n",
    "s = np.sin(2*np.pi*t)\n",
    "line, = ax.plot(t, s, color=\"blue\", lw=2)"
   ]
  },
  {
   "cell_type": "code",
   "execution_count": 28,
   "metadata": {},
   "outputs": [
    {
     "data": {
      "text/plain": [
       "[<matplotlib.lines.Line2D at 0x7ff62121f9e8>,\n",
       " <matplotlib.lines.Line2D at 0x7ff62131e240>,\n",
       " <matplotlib.lines.Line2D at 0x7ff620fb6e80>,\n",
       " <matplotlib.lines.Line2D at 0x7ff620fa7d68>,\n",
       " <matplotlib.lines.Line2D at 0x7ff61e9651d0>,\n",
       " <matplotlib.lines.Line2D at 0x7ff61e93ae48>,\n",
       " <matplotlib.lines.Line2D at 0x7ff61e82bbe0>,\n",
       " <matplotlib.lines.Line2D at 0x7ff61e82bdd8>,\n",
       " <matplotlib.lines.Line2D at 0x7ff61e814c88>,\n",
       " <matplotlib.lines.Line2D at 0x7ff61e8240b8>]"
      ]
     },
     "execution_count": 28,
     "metadata": {},
     "output_type": "execute_result"
    }
   ],
   "source": [
    "ax.lines"
   ]
  },
  {
   "cell_type": "code",
   "execution_count": 29,
   "metadata": {},
   "outputs": [
    {
     "data": {
      "text/plain": [
       "<matplotlib.lines.Line2D at 0x7ff61e8240b8>"
      ]
     },
     "execution_count": 29,
     "metadata": {},
     "output_type": "execute_result"
    }
   ],
   "source": [
    "line"
   ]
  },
  {
   "cell_type": "markdown",
   "metadata": {},
   "source": [
    "可以使用下面的任意一种方式删除实体。"
   ]
  },
  {
   "cell_type": "code",
   "execution_count": 30,
   "metadata": {},
   "outputs": [],
   "source": [
    "del ax.lines[0]\n",
    "#ax.lines.remove(line)"
   ]
  },
  {
   "cell_type": "markdown",
   "metadata": {},
   "source": [
    "Axes对象包含一些其他函数来装饰x、y轴，比如坐标标签、标记等。"
   ]
  },
  {
   "cell_type": "code",
   "execution_count": 31,
   "metadata": {},
   "outputs": [],
   "source": [
    "xtext = ax.set_xlabel('my xlabel')  #返回一个Text实体\n",
    "ytext = ax.set_ylabel('my ylabel')"
   ]
  },
  {
   "cell_type": "code",
   "execution_count": 33,
   "metadata": {},
   "outputs": [
    {
     "data": {
      "text/plain": [
       "(Text(0.5, 3.200000000000017, 'my xlabel'),\n",
       " Text(3.200000000000003, 0.5, 'my ylabel'))"
      ]
     },
     "execution_count": 33,
     "metadata": {},
     "output_type": "execute_result"
    }
   ],
   "source": [
    "xtext, ytext"
   ]
  },
  {
   "cell_type": "markdown",
   "metadata": {},
   "source": [
    "当调用ax.set_xlabel()函数的时候，它会把文本信息传递到Axes容器当中。"
   ]
  },
  {
   "cell_type": "code",
   "execution_count": 39,
   "metadata": {},
   "outputs": [
    {
     "data": {
      "image/png": "[encoded data removed]",
      "text/plain": [
       "<Figure size 432x288 with 2 Axes>"
      ]
     },
     "metadata": {
      "needs_background": "light"
     },
     "output_type": "display_data"
    }
   ],
   "source": [
    "import matplotlib.font_manager as fm\n",
    "font = fm.FontProperties(fname=\"/usr/share/fonts/truetype/dejavu/DejaVuSerif.ttf\")\n",
    "\n",
    "fig = plt.figure()\n",
    "fig.subplots_adjust(top=0.8)\n",
    "ax1 = fig.add_subplot(211)\n",
    "ax1.set_ylabel('dependent variable', fontproperties=font)\n",
    "ax1.set_title('wave', fontproperties=font)\n",
    "t = np.arange(0.0, 1.0, 0.01)\n",
    "s = np.sin(2*np.pi*t)\n",
    "line, = ax1.plot(t, s, color='blue', lw=2)\n",
    "np.random.seed(19680801) # 随机数种子\n",
    "ax2 = fig.add_axes([0.15, 0.1, 0.7, 0.3]) # 添加一个axes对象\n",
    "# 使用hist函数绘制图形\n",
    "n, bins, patches = ax2.hist(np.random.randn(1000), 50, facecolor='yellow', edgecolor='yellow')\n",
    "ax2.set_xlabel('time(s)', fontproperties=font)\n",
    "plt.show()"
   ]
  },
  {
   "cell_type": "markdown",
   "metadata": {},
   "source": [
    "## 3.2 Artist 的属性\n",
    "\n"
   ]
  }
 ],
 "metadata": {
  "kernelspec": {
   "display_name": "Python 3",
   "language": "python",
   "name": "python3"
  },
  "language_info": {
   "codemirror_mode": {
    "name": "ipython",
    "version": 3
   },
   "file_extension": ".py",
   "mimetype": "text/x-python",
   "name": "python",
   "nbconvert_exporter": "python",
   "pygments_lexer": "ipython3",
   "version": "3.7.3"
  }
 },
 "nbformat": 4,
 "nbformat_minor": 2
}
