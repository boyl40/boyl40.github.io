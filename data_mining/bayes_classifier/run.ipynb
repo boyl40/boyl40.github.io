{
 "cells": [
  {
   "cell_type": "code",
   "execution_count": 1,
   "metadata": {},
   "outputs": [
    {
     "name": "stdout",
     "output_type": "stream",
     "text": [
      "特征值:\t['long', 'not_sweet', 'not_yellow']\n",
      "预测结果:\t{'banana': 0.013714285714285715, 'orange': 0.0, 'other_fruit': 0.02142857142857143}\n",
      "水果类别:\tother_fruit\n",
      "特征值:\t['not_long', 'not_sweet', 'yellow']\n",
      "预测结果:\t{'banana': 0.007714285714285715, 'orange': 0.042857142857142864, 'other_fruit': 0.0017857142857142857}\n",
      "水果类别:\torange\n",
      "特征值:\t['not_long', 'not_sweet', 'yellow']\n",
      "预测结果:\t{'banana': 0.007714285714285715, 'orange': 0.042857142857142864, 'other_fruit': 0.0017857142857142857}\n",
      "水果类别:\torange\n",
      "特征值:\t['not_long', 'not_sweet', 'yellow']\n",
      "预测结果:\t{'banana': 0.007714285714285715, 'orange': 0.042857142857142864, 'other_fruit': 0.0017857142857142857}\n",
      "水果类别:\torange\n",
      "特征值:\t['long', 'not_sweet', 'yellow']\n",
      "预测结果:\t{'banana': 0.03085714285714286, 'orange': 0.0, 'other_fruit': 0.0017857142857142857}\n",
      "水果类别:\tbanana\n",
      "特征值:\t['not_long', 'sweet', 'yellow']\n",
      "预测结果:\t{'banana': 0.009692307692307693, 'orange': 0.02307692307692308, 'other_fruit': 0.0028846153846153848}\n",
      "水果类别:\torange\n",
      "特征值:\t['not_long', 'not_sweet', 'yellow']\n",
      "预测结果:\t{'banana': 0.007714285714285715, 'orange': 0.042857142857142864, 'other_fruit': 0.0017857142857142857}\n",
      "水果类别:\torange\n",
      "特征值:\t['long', 'not_sweet', 'yellow']\n",
      "预测结果:\t{'banana': 0.03085714285714286, 'orange': 0.0, 'other_fruit': 0.0017857142857142857}\n",
      "水果类别:\tbanana\n",
      "特征值:\t['long', 'sweet', 'not_yellow']\n",
      "预测结果:\t{'banana': 0.01723076923076923, 'orange': 0.0, 'other_fruit': 0.03461538461538462}\n",
      "水果类别:\tother_fruit\n",
      "特征值:\t['not_long', 'sweet', 'not_yellow']\n",
      "预测结果:\t{'banana': 0.0043076923076923075, 'orange': 0.0, 'other_fruit': 0.03461538461538462}\n",
      "水果类别:\tother_fruit\n",
      "特征值:\t['long', 'sweet', 'yellow']\n",
      "预测结果:\t{'banana': 0.03876923076923077, 'orange': 0.0, 'other_fruit': 0.0028846153846153848}\n",
      "水果类别:\tbanana\n",
      "特征值:\t['long', 'not_sweet', 'yellow']\n",
      "预测结果:\t{'banana': 0.03085714285714286, 'orange': 0.0, 'other_fruit': 0.0017857142857142857}\n",
      "水果类别:\tbanana\n",
      "特征值:\t['long', 'sweet', 'yellow']\n",
      "预测结果:\t{'banana': 0.03876923076923077, 'orange': 0.0, 'other_fruit': 0.0028846153846153848}\n",
      "水果类别:\tbanana\n",
      "特征值:\t['long', 'not_sweet', 'not_yellow']\n",
      "预测结果:\t{'banana': 0.013714285714285715, 'orange': 0.0, 'other_fruit': 0.02142857142857143}\n",
      "水果类别:\tother_fruit\n",
      "特征值:\t['long', 'not_sweet', 'not_yellow']\n",
      "预测结果:\t{'banana': 0.013714285714285715, 'orange': 0.0, 'other_fruit': 0.02142857142857143}\n",
      "水果类别:\tother_fruit\n",
      "特征值:\t['not_long', 'not_sweet', 'yellow']\n",
      "预测结果:\t{'banana': 0.007714285714285715, 'orange': 0.042857142857142864, 'other_fruit': 0.0017857142857142857}\n",
      "水果类别:\torange\n",
      "特征值:\t['long', 'not_sweet', 'yellow']\n",
      "预测结果:\t{'banana': 0.03085714285714286, 'orange': 0.0, 'other_fruit': 0.0017857142857142857}\n",
      "水果类别:\tbanana\n",
      "特征值:\t['long', 'not_sweet', 'yellow']\n",
      "预测结果:\t{'banana': 0.03085714285714286, 'orange': 0.0, 'other_fruit': 0.0017857142857142857}\n",
      "水果类别:\tbanana\n",
      "特征值:\t['not_long', 'sweet', 'yellow']\n",
      "预测结果:\t{'banana': 0.009692307692307693, 'orange': 0.02307692307692308, 'other_fruit': 0.0028846153846153848}\n",
      "水果类别:\torange\n",
      "特征值:\t['not_long', 'not_sweet', 'yellow']\n",
      "预测结果:\t{'banana': 0.007714285714285715, 'orange': 0.042857142857142864, 'other_fruit': 0.0017857142857142857}\n",
      "水果类别:\torange\n"
     ]
    }
   ],
   "source": [
    "%run classification.py"
   ]
  },
  {
   "cell_type": "code",
   "execution_count": null,
   "metadata": {},
   "outputs": [],
   "source": []
  }
 ],
 "metadata": {
  "kernelspec": {
   "display_name": "Python 3",
   "language": "python",
   "name": "python3"
  },
  "language_info": {
   "codemirror_mode": {
    "name": "ipython",
    "version": 3
   },
   "file_extension": ".py",
   "mimetype": "text/x-python",
   "name": "python",
   "nbconvert_exporter": "python",
   "pygments_lexer": "ipython3",
   "version": "3.7.3"
  }
 },
 "nbformat": 4,
 "nbformat_minor": 2
}
